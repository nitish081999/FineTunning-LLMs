{
 "cells": [
  {
   "cell_type": "code",
   "execution_count": null,
   "id": "0f8e9654-f76d-4d9c-9437-a79b6b103055",
   "metadata": {},
   "outputs": [
    {
     "data": {
      "application/vnd.jupyter.widget-view+json": {
       "model_id": "2b56a3be004342a5a1ceef6bb7805590",
       "version_major": 2,
       "version_minor": 0
      },
      "text/plain": [
       "Loading checkpoint shards:   0%|          | 0/2 [00:00<?, ?it/s]"
      ]
     },
     "metadata": {},
     "output_type": "display_data"
    }
   ],
   "source": [
    "from transformers import AutoModelForCausalLM\n",
    "model_name = \"huggyllama/llama-7b\"      # can also be a local directory\n",
    "model = AutoModelForCausalLM.from_pretrained(model_name)\n",
    "hidden_size = model.config.hidden_size\n",
    "print(hidden_size)"
   ]
  },
  {
   "cell_type": "code",
   "execution_count": null,
   "id": "bfc8ed54-989e-4be0-bec7-925fc4e8581f",
   "metadata": {},
   "outputs": [],
   "source": []
  }
 ],
 "metadata": {
  "kernelspec": {
   "display_name": "Python 3 (ipykernel)",
   "language": "python",
   "name": "python3"
  },
  "language_info": {
   "codemirror_mode": {
    "name": "ipython",
    "version": 3
   },
   "file_extension": ".py",
   "mimetype": "text/x-python",
   "name": "python",
   "nbconvert_exporter": "python",
   "pygments_lexer": "ipython3",
   "version": "3.11.9"
  },
  "widgets": {
   "application/vnd.jupyter.widget-state+json": {
    "state": {},
    "version_major": 2,
    "version_minor": 0
   }
  }
 },
 "nbformat": 4,
 "nbformat_minor": 5
}
